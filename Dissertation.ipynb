{
  "nbformat": 4,
  "nbformat_minor": 0,
  "metadata": {
    "colab": {
      "name": "Dissertation.ipynb",
      "provenance": [],
      "collapsed_sections": []
    },
    "kernelspec": {
      "name": "python3",
      "display_name": "Python 3"
    },
    "language_info": {
      "name": "python"
    }
  },
  "cells": [
    {
      "cell_type": "code",
      "execution_count": 1,
      "metadata": {
        "colab": {
          "base_uri": "https://localhost:8080/"
        },
        "id": "hktWqtkspmru",
        "outputId": "55ffb091-cebc-4b78-fbc4-afd78d245b79"
      },
      "outputs": [
        {
          "output_type": "stream",
          "name": "stdout",
          "text": [
            "Mounted at /content/drive\n",
            "Using device: cpu\n"
          ]
        }
      ],
      "source": [
        "import os\n",
        "from math import sqrt\n",
        "import numpy as np\n",
        "import torch\n",
        "from sklearn.metrics import r2_score\n",
        "from sklearn.metrics import mean_squared_error\n",
        "from sklearn.preprocessing import StandardScaler\n",
        "from sklearn.model_selection import train_test_split\n",
        "from mpl_toolkits.mplot3d import Axes3D\n",
        "import matplotlib.pyplot as plt\n",
        "from google.colab import drive\n",
        "import pandas as pd\n",
        "drive.mount('/content/drive')\n",
        "\n",
        "device = torch.device(\"cuda\" if torch.cuda.is_available() else \"cpu\")\n",
        "print(\"Using device:\", device)\n",
        "\n",
        "root_dir = '/content/drive/MyDrive/' # this is to be defined by you \n",
        "local_path = '/telecom/' # store the related data files in this folder\n",
        "data_dir = root_dir + local_path\n",
        "dataset=data_dir + \"data.csv\" \n",
        "data=pd.read_csv(dataset)\n"
      ]
    },
    {
      "cell_type": "code",
      "source": [
        "data.isnull().sum()"
      ],
      "metadata": {
        "colab": {
          "base_uri": "https://localhost:8080/"
        },
        "id": "Rls0ltWjtEYp",
        "outputId": "244d8058-a3de-430e-e8f6-fb6d0490eaeb"
      },
      "execution_count": 2,
      "outputs": [
        {
          "output_type": "execute_result",
          "data": {
            "text/plain": [
              "month                               0\n",
              "date                                0\n",
              "start time                          0\n",
              "end time                            0\n",
              "location(latitude/lontitude)    47592\n",
              "user id                             0\n",
              "dtype: int64"
            ]
          },
          "metadata": {},
          "execution_count": 2
        }
      ]
    },
    {
      "cell_type": "code",
      "source": [
        "data.info()"
      ],
      "metadata": {
        "colab": {
          "base_uri": "https://localhost:8080/"
        },
        "id": "jrTJG_6_f99w",
        "outputId": "51d1fb88-3df4-4f4a-96f1-c0462e0c1d24"
      },
      "execution_count": 5,
      "outputs": [
        {
          "output_type": "stream",
          "name": "stdout",
          "text": [
            "<class 'pandas.core.frame.DataFrame'>\n",
            "RangeIndex: 611506 entries, 0 to 611505\n",
            "Data columns (total 6 columns):\n",
            " #   Column                        Non-Null Count   Dtype \n",
            "---  ------                        --------------   ----- \n",
            " 0   month                         611506 non-null  int64 \n",
            " 1   date                          611506 non-null  int64 \n",
            " 2   start time                    611506 non-null  object\n",
            " 3   end time                      611506 non-null  object\n",
            " 4   location(latitude/lontitude)  563914 non-null  object\n",
            " 5   user id                       611506 non-null  object\n",
            "dtypes: int64(2), object(4)\n",
            "memory usage: 28.0+ MB\n"
          ]
        }
      ]
    },
    {
      "cell_type": "code",
      "source": [
        "data.iloc[: , 1:2].head(10)"
      ],
      "metadata": {
        "colab": {
          "base_uri": "https://localhost:8080/",
          "height": 363
        },
        "id": "nbz0IZAnhwW4",
        "outputId": "1071a469-a432-473c-86db-9a3bc99618b3"
      },
      "execution_count": 28,
      "outputs": [
        {
          "output_type": "execute_result",
          "data": {
            "text/plain": [
              "   date\n",
              "0     1\n",
              "1     1\n",
              "2     1\n",
              "3     1\n",
              "4     1\n",
              "5     1\n",
              "6     1\n",
              "7     1\n",
              "8     1\n",
              "9     1"
            ],
            "text/html": [
              "\n",
              "  <div id=\"df-b0be1b41-3560-4960-b5fa-483fa623f0c0\">\n",
              "    <div class=\"colab-df-container\">\n",
              "      <div>\n",
              "<style scoped>\n",
              "    .dataframe tbody tr th:only-of-type {\n",
              "        vertical-align: middle;\n",
              "    }\n",
              "\n",
              "    .dataframe tbody tr th {\n",
              "        vertical-align: top;\n",
              "    }\n",
              "\n",
              "    .dataframe thead th {\n",
              "        text-align: right;\n",
              "    }\n",
              "</style>\n",
              "<table border=\"1\" class=\"dataframe\">\n",
              "  <thead>\n",
              "    <tr style=\"text-align: right;\">\n",
              "      <th></th>\n",
              "      <th>date</th>\n",
              "    </tr>\n",
              "  </thead>\n",
              "  <tbody>\n",
              "    <tr>\n",
              "      <th>0</th>\n",
              "      <td>1</td>\n",
              "    </tr>\n",
              "    <tr>\n",
              "      <th>1</th>\n",
              "      <td>1</td>\n",
              "    </tr>\n",
              "    <tr>\n",
              "      <th>2</th>\n",
              "      <td>1</td>\n",
              "    </tr>\n",
              "    <tr>\n",
              "      <th>3</th>\n",
              "      <td>1</td>\n",
              "    </tr>\n",
              "    <tr>\n",
              "      <th>4</th>\n",
              "      <td>1</td>\n",
              "    </tr>\n",
              "    <tr>\n",
              "      <th>5</th>\n",
              "      <td>1</td>\n",
              "    </tr>\n",
              "    <tr>\n",
              "      <th>6</th>\n",
              "      <td>1</td>\n",
              "    </tr>\n",
              "    <tr>\n",
              "      <th>7</th>\n",
              "      <td>1</td>\n",
              "    </tr>\n",
              "    <tr>\n",
              "      <th>8</th>\n",
              "      <td>1</td>\n",
              "    </tr>\n",
              "    <tr>\n",
              "      <th>9</th>\n",
              "      <td>1</td>\n",
              "    </tr>\n",
              "  </tbody>\n",
              "</table>\n",
              "</div>\n",
              "      <button class=\"colab-df-convert\" onclick=\"convertToInteractive('df-b0be1b41-3560-4960-b5fa-483fa623f0c0')\"\n",
              "              title=\"Convert this dataframe to an interactive table.\"\n",
              "              style=\"display:none;\">\n",
              "        \n",
              "  <svg xmlns=\"http://www.w3.org/2000/svg\" height=\"24px\"viewBox=\"0 0 24 24\"\n",
              "       width=\"24px\">\n",
              "    <path d=\"M0 0h24v24H0V0z\" fill=\"none\"/>\n",
              "    <path d=\"M18.56 5.44l.94 2.06.94-2.06 2.06-.94-2.06-.94-.94-2.06-.94 2.06-2.06.94zm-11 1L8.5 8.5l.94-2.06 2.06-.94-2.06-.94L8.5 2.5l-.94 2.06-2.06.94zm10 10l.94 2.06.94-2.06 2.06-.94-2.06-.94-.94-2.06-.94 2.06-2.06.94z\"/><path d=\"M17.41 7.96l-1.37-1.37c-.4-.4-.92-.59-1.43-.59-.52 0-1.04.2-1.43.59L10.3 9.45l-7.72 7.72c-.78.78-.78 2.05 0 2.83L4 21.41c.39.39.9.59 1.41.59.51 0 1.02-.2 1.41-.59l7.78-7.78 2.81-2.81c.8-.78.8-2.07 0-2.86zM5.41 20L4 18.59l7.72-7.72 1.47 1.35L5.41 20z\"/>\n",
              "  </svg>\n",
              "      </button>\n",
              "      \n",
              "  <style>\n",
              "    .colab-df-container {\n",
              "      display:flex;\n",
              "      flex-wrap:wrap;\n",
              "      gap: 12px;\n",
              "    }\n",
              "\n",
              "    .colab-df-convert {\n",
              "      background-color: #E8F0FE;\n",
              "      border: none;\n",
              "      border-radius: 50%;\n",
              "      cursor: pointer;\n",
              "      display: none;\n",
              "      fill: #1967D2;\n",
              "      height: 32px;\n",
              "      padding: 0 0 0 0;\n",
              "      width: 32px;\n",
              "    }\n",
              "\n",
              "    .colab-df-convert:hover {\n",
              "      background-color: #E2EBFA;\n",
              "      box-shadow: 0px 1px 2px rgba(60, 64, 67, 0.3), 0px 1px 3px 1px rgba(60, 64, 67, 0.15);\n",
              "      fill: #174EA6;\n",
              "    }\n",
              "\n",
              "    [theme=dark] .colab-df-convert {\n",
              "      background-color: #3B4455;\n",
              "      fill: #D2E3FC;\n",
              "    }\n",
              "\n",
              "    [theme=dark] .colab-df-convert:hover {\n",
              "      background-color: #434B5C;\n",
              "      box-shadow: 0px 1px 3px 1px rgba(0, 0, 0, 0.15);\n",
              "      filter: drop-shadow(0px 1px 2px rgba(0, 0, 0, 0.3));\n",
              "      fill: #FFFFFF;\n",
              "    }\n",
              "  </style>\n",
              "\n",
              "      <script>\n",
              "        const buttonEl =\n",
              "          document.querySelector('#df-b0be1b41-3560-4960-b5fa-483fa623f0c0 button.colab-df-convert');\n",
              "        buttonEl.style.display =\n",
              "          google.colab.kernel.accessAllowed ? 'block' : 'none';\n",
              "\n",
              "        async function convertToInteractive(key) {\n",
              "          const element = document.querySelector('#df-b0be1b41-3560-4960-b5fa-483fa623f0c0');\n",
              "          const dataTable =\n",
              "            await google.colab.kernel.invokeFunction('convertToInteractive',\n",
              "                                                     [key], {});\n",
              "          if (!dataTable) return;\n",
              "\n",
              "          const docLinkHtml = 'Like what you see? Visit the ' +\n",
              "            '<a target=\"_blank\" href=https://colab.research.google.com/notebooks/data_table.ipynb>data table notebook</a>'\n",
              "            + ' to learn more about interactive tables.';\n",
              "          element.innerHTML = '';\n",
              "          dataTable['output_type'] = 'display_data';\n",
              "          await google.colab.output.renderOutput(dataTable, element);\n",
              "          const docLink = document.createElement('div');\n",
              "          docLink.innerHTML = docLinkHtml;\n",
              "          element.appendChild(docLink);\n",
              "        }\n",
              "      </script>\n",
              "    </div>\n",
              "  </div>\n",
              "  "
            ]
          },
          "metadata": {},
          "execution_count": 28
        }
      ]
    },
    {
      "cell_type": "code",
      "source": [
        "cols = data.columns # Saving column names to a variable\n",
        "data[cols].apply(pd.to_numeric, errors='coerce') # Converting the columns to numeric\n",
        "\n",
        "corr_mat = data.corr(method = 'pearson')\n",
        "print(corr_mat)"
      ],
      "metadata": {
        "colab": {
          "base_uri": "https://localhost:8080/"
        },
        "id": "MzesLXryifCW",
        "outputId": "3428883b-cc7d-4af8-8c70-598040377650"
      },
      "execution_count": 25,
      "outputs": [
        {
          "output_type": "stream",
          "name": "stdout",
          "text": [
            "       month  date\n",
            "month    NaN   NaN\n",
            "date     NaN   1.0\n"
          ]
        }
      ]
    },
    {
      "cell_type": "code",
      "source": [
        "import seaborn as sns\n",
        "corr = data.corr(method='kendall')\n",
        "sns.heatmap(corr, \n",
        "            xticklabels=corr.columns.values,\n",
        "            yticklabels=corr.columns.values)"
      ],
      "metadata": {
        "colab": {
          "base_uri": "https://localhost:8080/",
          "height": 290
        },
        "id": "kB4oCw2lbUWg",
        "outputId": "06d5b757-083f-423c-98ec-8dd5ad995f7a"
      },
      "execution_count": 33,
      "outputs": [
        {
          "output_type": "execute_result",
          "data": {
            "text/plain": [
              "<matplotlib.axes._subplots.AxesSubplot at 0x7f21bcc4ff90>"
            ]
          },
          "metadata": {},
          "execution_count": 33
        },
        {
          "output_type": "display_data",
          "data": {
            "text/plain": [
              "<Figure size 432x288 with 2 Axes>"
            ],
            "image/png": "[encoded data removed]"
          },
          "metadata": {}
        }
      ]
    },
    {
      "cell_type": "code",
      "source": [
        "pip install geopy"
      ],
      "metadata": {
        "colab": {
          "base_uri": "https://localhost:8080/"
        },
        "id": "9rnGqvzIedGW",
        "outputId": "0717ef49-1515-4f94-f601-b5c4eb7106ef"
      },
      "execution_count": null,
      "outputs": [
        {
          "output_type": "stream",
          "name": "stdout",
          "text": [
            "Looking in indexes: https://pypi.org/simple, https://us-python.pkg.dev/colab-wheels/public/simple/\n",
            "Requirement already satisfied: geopy in /usr/local/lib/python3.7/dist-packages (1.17.0)\n",
            "Requirement already satisfied: geographiclib<2,>=1.49 in /usr/local/lib/python3.7/dist-packages (from geopy) (1.52)\n"
          ]
        }
      ]
    },
    {
      "cell_type": "code",
      "source": [
        "print(data.shape)\n",
        "data.info()"
      ],
      "metadata": {
        "colab": {
          "base_uri": "https://localhost:8080/"
        },
        "id": "09S767dWtySn",
        "outputId": "dae123f6-e65d-4512-a931-9cb3d9b69ab2"
      },
      "execution_count": null,
      "outputs": [
        {
          "output_type": "stream",
          "name": "stdout",
          "text": [
            "(611506, 6)\n",
            "<class 'pandas.core.frame.DataFrame'>\n",
            "RangeIndex: 611506 entries, 0 to 611505\n",
            "Data columns (total 6 columns):\n",
            " #   Column                        Non-Null Count   Dtype \n",
            "---  ------                        --------------   ----- \n",
            " 0   month                         611506 non-null  int64 \n",
            " 1   date                          611506 non-null  int64 \n",
            " 2   start time                    611506 non-null  object\n",
            " 3   end time                      611506 non-null  object\n",
            " 4   location(latitude/lontitude)  563914 non-null  object\n",
            " 5   user id                       611506 non-null  object\n",
            "dtypes: int64(2), object(4)\n",
            "memory usage: 28.0+ MB\n"
          ]
        }
      ]
    },
    {
      "cell_type": "code",
      "source": [
        "data.head()"
      ],
      "metadata": {
        "colab": {
          "base_uri": "https://localhost:8080/",
          "height": 206
        },
        "id": "MURtVuPDomoN",
        "outputId": "2288f5af-9edd-4b29-aea4-afb9d0f521b1"
      },
      "execution_count": null,
      "outputs": [
        {
          "output_type": "execute_result",
          "data": {
            "text/plain": [
              "    month  date       start time        end time location(latitude/lontitude)  \\\n",
              "0  201406     1   6/1/2014 10:22  6/1/2014 11:09         31.237872/121.470259   \n",
              "1  201406     1    6/1/2014 7:00   6/1/2014 8:49         31.237872/121.470259   \n",
              "2  201406     1    6/1/2014 2:49   6/1/2014 5:49         31.237872/121.470259   \n",
              "3  201406     1    6/1/2014 8:51   6/1/2014 9:20         31.237872/121.470259   \n",
              "4  201406     1  5/31/2014 23:49   6/1/2014 2:49         31.237872/121.470259   \n",
              "\n",
              "                            user id  \n",
              "0  edbc54bddf16494a49f39ac057b4185d  \n",
              "1  f8206ab58b9bdb070673f7050242e9ee  \n",
              "2  f8206ab58b9bdb070673f7050242e9ee  \n",
              "3  f8206ab58b9bdb070673f7050242e9ee  \n",
              "4  f8206ab58b9bdb070673f7050242e9ee  "
            ],
            "text/html": [
              "\n",
              "  <div id=\"df-0fd950f3-9ca9-42df-bf4e-c8676e5867e9\">\n",
              "    <div class=\"colab-df-container\">\n",
              "      <div>\n",
              "<style scoped>\n",
              "    .dataframe tbody tr th:only-of-type {\n",
              "        vertical-align: middle;\n",
              "    }\n",
              "\n",
              "    .dataframe tbody tr th {\n",
              "        vertical-align: top;\n",
              "    }\n",
              "\n",
              "    .dataframe thead th {\n",
              "        text-align: right;\n",
              "    }\n",
              "</style>\n",
              "<table border=\"1\" class=\"dataframe\">\n",
              "  <thead>\n",
              "    <tr style=\"text-align: right;\">\n",
              "      <th></th>\n",
              "      <th>month</th>\n",
              "      <th>date</th>\n",
              "      <th>start time</th>\n",
              "      <th>end time</th>\n",
              "      <th>location(latitude/lontitude)</th>\n",
              "      <th>user id</th>\n",
              "    </tr>\n",
              "  </thead>\n",
              "  <tbody>\n",
              "    <tr>\n",
              "      <th>0</th>\n",
              "      <td>201406</td>\n",
              "      <td>1</td>\n",
              "      <td>6/1/2014 10:22</td>\n",
              "      <td>6/1/2014 11:09</td>\n",
              "      <td>31.237872/121.470259</td>\n",
              "      <td>edbc54bddf16494a49f39ac057b4185d</td>\n",
              "    </tr>\n",
              "    <tr>\n",
              "      <th>1</th>\n",
              "      <td>201406</td>\n",
              "      <td>1</td>\n",
              "      <td>6/1/2014 7:00</td>\n",
              "      <td>6/1/2014 8:49</td>\n",
              "      <td>31.237872/121.470259</td>\n",
              "      <td>f8206ab58b9bdb070673f7050242e9ee</td>\n",
              "    </tr>\n",
              "    <tr>\n",
              "      <th>2</th>\n",
              "      <td>201406</td>\n",
              "      <td>1</td>\n",
              "      <td>6/1/2014 2:49</td>\n",
              "      <td>6/1/2014 5:49</td>\n",
              "      <td>31.237872/121.470259</td>\n",
              "      <td>f8206ab58b9bdb070673f7050242e9ee</td>\n",
              "    </tr>\n",
              "    <tr>\n",
              "      <th>3</th>\n",
              "      <td>201406</td>\n",
              "      <td>1</td>\n",
              "      <td>6/1/2014 8:51</td>\n",
              "      <td>6/1/2014 9:20</td>\n",
              "      <td>31.237872/121.470259</td>\n",
              "      <td>f8206ab58b9bdb070673f7050242e9ee</td>\n",
              "    </tr>\n",
              "    <tr>\n",
              "      <th>4</th>\n",
              "      <td>201406</td>\n",
              "      <td>1</td>\n",
              "      <td>5/31/2014 23:49</td>\n",
              "      <td>6/1/2014 2:49</td>\n",
              "      <td>31.237872/121.470259</td>\n",
              "      <td>f8206ab58b9bdb070673f7050242e9ee</td>\n",
              "    </tr>\n",
              "  </tbody>\n",
              "</table>\n",
              "</div>\n",
              "      <button class=\"colab-df-convert\" onclick=\"convertToInteractive('df-0fd950f3-9ca9-42df-bf4e-c8676e5867e9')\"\n",
              "              title=\"Convert this dataframe to an interactive table.\"\n",
              "              style=\"display:none;\">\n",
              "        \n",
              "  <svg xmlns=\"http://www.w3.org/2000/svg\" height=\"24px\"viewBox=\"0 0 24 24\"\n",
              "       width=\"24px\">\n",
              "    <path d=\"M0 0h24v24H0V0z\" fill=\"none\"/>\n",
              "    <path d=\"M18.56 5.44l.94 2.06.94-2.06 2.06-.94-2.06-.94-.94-2.06-.94 2.06-2.06.94zm-11 1L8.5 8.5l.94-2.06 2.06-.94-2.06-.94L8.5 2.5l-.94 2.06-2.06.94zm10 10l.94 2.06.94-2.06 2.06-.94-2.06-.94-.94-2.06-.94 2.06-2.06.94z\"/><path d=\"M17.41 7.96l-1.37-1.37c-.4-.4-.92-.59-1.43-.59-.52 0-1.04.2-1.43.59L10.3 9.45l-7.72 7.72c-.78.78-.78 2.05 0 2.83L4 21.41c.39.39.9.59 1.41.59.51 0 1.02-.2 1.41-.59l7.78-7.78 2.81-2.81c.8-.78.8-2.07 0-2.86zM5.41 20L4 18.59l7.72-7.72 1.47 1.35L5.41 20z\"/>\n",
              "  </svg>\n",
              "      </button>\n",
              "      \n",
              "  <style>\n",
              "    .colab-df-container {\n",
              "      display:flex;\n",
              "      flex-wrap:wrap;\n",
              "      gap: 12px;\n",
              "    }\n",
              "\n",
              "    .colab-df-convert {\n",
              "      background-color: #E8F0FE;\n",
              "      border: none;\n",
              "      border-radius: 50%;\n",
              "      cursor: pointer;\n",
              "      display: none;\n",
              "      fill: #1967D2;\n",
              "      height: 32px;\n",
              "      padding: 0 0 0 0;\n",
              "      width: 32px;\n",
              "    }\n",
              "\n",
              "    .colab-df-convert:hover {\n",
              "      background-color: #E2EBFA;\n",
              "      box-shadow: 0px 1px 2px rgba(60, 64, 67, 0.3), 0px 1px 3px 1px rgba(60, 64, 67, 0.15);\n",
              "      fill: #174EA6;\n",
              "    }\n",
              "\n",
              "    [theme=dark] .colab-df-convert {\n",
              "      background-color: #3B4455;\n",
              "      fill: #D2E3FC;\n",
              "    }\n",
              "\n",
              "    [theme=dark] .colab-df-convert:hover {\n",
              "      background-color: #434B5C;\n",
              "      box-shadow: 0px 1px 3px 1px rgba(0, 0, 0, 0.15);\n",
              "      filter: drop-shadow(0px 1px 2px rgba(0, 0, 0, 0.3));\n",
              "      fill: #FFFFFF;\n",
              "    }\n",
              "  </style>\n",
              "\n",
              "      <script>\n",
              "        const buttonEl =\n",
              "          document.querySelector('#df-0fd950f3-9ca9-42df-bf4e-c8676e5867e9 button.colab-df-convert');\n",
              "        buttonEl.style.display =\n",
              "          google.colab.kernel.accessAllowed ? 'block' : 'none';\n",
              "\n",
              "        async function convertToInteractive(key) {\n",
              "          const element = document.querySelector('#df-0fd950f3-9ca9-42df-bf4e-c8676e5867e9');\n",
              "          const dataTable =\n",
              "            await google.colab.kernel.invokeFunction('convertToInteractive',\n",
              "                                                     [key], {});\n",
              "          if (!dataTable) return;\n",
              "\n",
              "          const docLinkHtml = 'Like what you see? Visit the ' +\n",
              "            '<a target=\"_blank\" href=https://colab.research.google.com/notebooks/data_table.ipynb>data table notebook</a>'\n",
              "            + ' to learn more about interactive tables.';\n",
              "          element.innerHTML = '';\n",
              "          dataTable['output_type'] = 'display_data';\n",
              "          await google.colab.output.renderOutput(dataTable, element);\n",
              "          const docLink = document.createElement('div');\n",
              "          docLink.innerHTML = docLinkHtml;\n",
              "          element.appendChild(docLink);\n",
              "        }\n",
              "      </script>\n",
              "    </div>\n",
              "  </div>\n",
              "  "
            ]
          },
          "metadata": {},
          "execution_count": 4
        }
      ]
    },
    {
      "cell_type": "code",
      "source": [
        "data['start time'] = data['start time'].astype('datetime64[ns]')\n",
        "data['end time'] = data['end time'].astype('datetime64[ns]')\n",
        "\n",
        "data.info()"
      ],
      "metadata": {
        "colab": {
          "base_uri": "https://localhost:8080/"
        },
        "id": "SzLXGrP-UBcy",
        "outputId": "9c91344b-b134-4d4a-acc8-9c1a9ef1744d"
      },
      "execution_count": null,
      "outputs": [
        {
          "output_type": "stream",
          "name": "stdout",
          "text": [
            "<class 'pandas.core.frame.DataFrame'>\n",
            "RangeIndex: 611506 entries, 0 to 611505\n",
            "Data columns (total 6 columns):\n",
            " #   Column                        Non-Null Count   Dtype         \n",
            "---  ------                        --------------   -----         \n",
            " 0   month                         611506 non-null  int64         \n",
            " 1   date                          611506 non-null  int64         \n",
            " 2   start time                    611506 non-null  datetime64[ns]\n",
            " 3   end time                      611506 non-null  datetime64[ns]\n",
            " 4   location(latitude/lontitude)  563914 non-null  object        \n",
            " 5   user id                       611506 non-null  object        \n",
            "dtypes: datetime64[ns](2), int64(2), object(2)\n",
            "memory usage: 28.0+ MB\n"
          ]
        }
      ]
    },
    {
      "cell_type": "code",
      "source": [
        "data[['longitude', 'latitude']] = data['location(latitude/lontitude)'].str.split('/', expand=True)\n",
        "del data['location(latitude/lontitude)']\n",
        "data.head()"
      ],
      "metadata": {
        "colab": {
          "base_uri": "https://localhost:8080/",
          "height": 206
        },
        "id": "pQR9gSj-_wn-",
        "outputId": "3013836c-3b0e-4fbe-8213-a1650184882b"
      },
      "execution_count": null,
      "outputs": [
        {
          "output_type": "execute_result",
          "data": {
            "text/plain": [
              "    month  date          start time            end time  \\\n",
              "0  201406     1 2014-06-01 10:22:00 2014-06-01 11:09:00   \n",
              "1  201406     1 2014-06-01 07:00:00 2014-06-01 08:49:00   \n",
              "2  201406     1 2014-06-01 02:49:00 2014-06-01 05:49:00   \n",
              "3  201406     1 2014-06-01 08:51:00 2014-06-01 09:20:00   \n",
              "4  201406     1 2014-05-31 23:49:00 2014-06-01 02:49:00   \n",
              "\n",
              "                            user id  longitude    latitude  \n",
              "0  edbc54bddf16494a49f39ac057b4185d  31.237872  121.470259  \n",
              "1  f8206ab58b9bdb070673f7050242e9ee  31.237872  121.470259  \n",
              "2  f8206ab58b9bdb070673f7050242e9ee  31.237872  121.470259  \n",
              "3  f8206ab58b9bdb070673f7050242e9ee  31.237872  121.470259  \n",
              "4  f8206ab58b9bdb070673f7050242e9ee  31.237872  121.470259  "
            ],
            "text/html": [
              "\n",
              "  <div id=\"df-42f7c9f8-e42f-429b-bf78-21c8f8742f6a\">\n",
              "    <div class=\"colab-df-container\">\n",
              "      <div>\n",
              "<style scoped>\n",
              "    .dataframe tbody tr th:only-of-type {\n",
              "        vertical-align: middle;\n",
              "    }\n",
              "\n",
              "    .dataframe tbody tr th {\n",
              "        vertical-align: top;\n",
              "    }\n",
              "\n",
              "    .dataframe thead th {\n",
              "        text-align: right;\n",
              "    }\n",
              "</style>\n",
              "<table border=\"1\" class=\"dataframe\">\n",
              "  <thead>\n",
              "    <tr style=\"text-align: right;\">\n",
              "      <th></th>\n",
              "      <th>month</th>\n",
              "      <th>date</th>\n",
              "      <th>start time</th>\n",
              "      <th>end time</th>\n",
              "      <th>user id</th>\n",
              "      <th>longitude</th>\n",
              "      <th>latitude</th>\n",
              "    </tr>\n",
              "  </thead>\n",
              "  <tbody>\n",
              "    <tr>\n",
              "      <th>0</th>\n",
              "      <td>201406</td>\n",
              "      <td>1</td>\n",
              "      <td>2014-06-01 10:22:00</td>\n",
              "      <td>2014-06-01 11:09:00</td>\n",
              "      <td>edbc54bddf16494a49f39ac057b4185d</td>\n",
              "      <td>31.237872</td>\n",
              "      <td>121.470259</td>\n",
              "    </tr>\n",
              "    <tr>\n",
              "      <th>1</th>\n",
              "      <td>201406</td>\n",
              "      <td>1</td>\n",
              "      <td>2014-06-01 07:00:00</td>\n",
              "      <td>2014-06-01 08:49:00</td>\n",
              "      <td>f8206ab58b9bdb070673f7050242e9ee</td>\n",
              "      <td>31.237872</td>\n",
              "      <td>121.470259</td>\n",
              "    </tr>\n",
              "    <tr>\n",
              "      <th>2</th>\n",
              "      <td>201406</td>\n",
              "      <td>1</td>\n",
              "      <td>2014-06-01 02:49:00</td>\n",
              "      <td>2014-06-01 05:49:00</td>\n",
              "      <td>f8206ab58b9bdb070673f7050242e9ee</td>\n",
              "      <td>31.237872</td>\n",
              "      <td>121.470259</td>\n",
              "    </tr>\n",
              "    <tr>\n",
              "      <th>3</th>\n",
              "      <td>201406</td>\n",
              "      <td>1</td>\n",
              "      <td>2014-06-01 08:51:00</td>\n",
              "      <td>2014-06-01 09:20:00</td>\n",
              "      <td>f8206ab58b9bdb070673f7050242e9ee</td>\n",
              "      <td>31.237872</td>\n",
              "      <td>121.470259</td>\n",
              "    </tr>\n",
              "    <tr>\n",
              "      <th>4</th>\n",
              "      <td>201406</td>\n",
              "      <td>1</td>\n",
              "      <td>2014-05-31 23:49:00</td>\n",
              "      <td>2014-06-01 02:49:00</td>\n",
              "      <td>f8206ab58b9bdb070673f7050242e9ee</td>\n",
              "      <td>31.237872</td>\n",
              "      <td>121.470259</td>\n",
              "    </tr>\n",
              "  </tbody>\n",
              "</table>\n",
              "</div>\n",
              "      <button class=\"colab-df-convert\" onclick=\"convertToInteractive('df-42f7c9f8-e42f-429b-bf78-21c8f8742f6a')\"\n",
              "              title=\"Convert this dataframe to an interactive table.\"\n",
              "              style=\"display:none;\">\n",
              "        \n",
              "  <svg xmlns=\"http://www.w3.org/2000/svg\" height=\"24px\"viewBox=\"0 0 24 24\"\n",
              "       width=\"24px\">\n",
              "    <path d=\"M0 0h24v24H0V0z\" fill=\"none\"/>\n",
              "    <path d=\"M18.56 5.44l.94 2.06.94-2.06 2.06-.94-2.06-.94-.94-2.06-.94 2.06-2.06.94zm-11 1L8.5 8.5l.94-2.06 2.06-.94-2.06-.94L8.5 2.5l-.94 2.06-2.06.94zm10 10l.94 2.06.94-2.06 2.06-.94-2.06-.94-.94-2.06-.94 2.06-2.06.94z\"/><path d=\"M17.41 7.96l-1.37-1.37c-.4-.4-.92-.59-1.43-.59-.52 0-1.04.2-1.43.59L10.3 9.45l-7.72 7.72c-.78.78-.78 2.05 0 2.83L4 21.41c.39.39.9.59 1.41.59.51 0 1.02-.2 1.41-.59l7.78-7.78 2.81-2.81c.8-.78.8-2.07 0-2.86zM5.41 20L4 18.59l7.72-7.72 1.47 1.35L5.41 20z\"/>\n",
              "  </svg>\n",
              "      </button>\n",
              "      \n",
              "  <style>\n",
              "    .colab-df-container {\n",
              "      display:flex;\n",
              "      flex-wrap:wrap;\n",
              "      gap: 12px;\n",
              "    }\n",
              "\n",
              "    .colab-df-convert {\n",
              "      background-color: #E8F0FE;\n",
              "      border: none;\n",
              "      border-radius: 50%;\n",
              "      cursor: pointer;\n",
              "      display: none;\n",
              "      fill: #1967D2;\n",
              "      height: 32px;\n",
              "      padding: 0 0 0 0;\n",
              "      width: 32px;\n",
              "    }\n",
              "\n",
              "    .colab-df-convert:hover {\n",
              "      background-color: #E2EBFA;\n",
              "      box-shadow: 0px 1px 2px rgba(60, 64, 67, 0.3), 0px 1px 3px 1px rgba(60, 64, 67, 0.15);\n",
              "      fill: #174EA6;\n",
              "    }\n",
              "\n",
              "    [theme=dark] .colab-df-convert {\n",
              "      background-color: #3B4455;\n",
              "      fill: #D2E3FC;\n",
              "    }\n",
              "\n",
              "    [theme=dark] .colab-df-convert:hover {\n",
              "      background-color: #434B5C;\n",
              "      box-shadow: 0px 1px 3px 1px rgba(0, 0, 0, 0.15);\n",
              "      filter: drop-shadow(0px 1px 2px rgba(0, 0, 0, 0.3));\n",
              "      fill: #FFFFFF;\n",
              "    }\n",
              "  </style>\n",
              "\n",
              "      <script>\n",
              "        const buttonEl =\n",
              "          document.querySelector('#df-42f7c9f8-e42f-429b-bf78-21c8f8742f6a button.colab-df-convert');\n",
              "        buttonEl.style.display =\n",
              "          google.colab.kernel.accessAllowed ? 'block' : 'none';\n",
              "\n",
              "        async function convertToInteractive(key) {\n",
              "          const element = document.querySelector('#df-42f7c9f8-e42f-429b-bf78-21c8f8742f6a');\n",
              "          const dataTable =\n",
              "            await google.colab.kernel.invokeFunction('convertToInteractive',\n",
              "                                                     [key], {});\n",
              "          if (!dataTable) return;\n",
              "\n",
              "          const docLinkHtml = 'Like what you see? Visit the ' +\n",
              "            '<a target=\"_blank\" href=https://colab.research.google.com/notebooks/data_table.ipynb>data table notebook</a>'\n",
              "            + ' to learn more about interactive tables.';\n",
              "          element.innerHTML = '';\n",
              "          dataTable['output_type'] = 'display_data';\n",
              "          await google.colab.output.renderOutput(dataTable, element);\n",
              "          const docLink = document.createElement('div');\n",
              "          docLink.innerHTML = docLinkHtml;\n",
              "          element.appendChild(docLink);\n",
              "        }\n",
              "      </script>\n",
              "    </div>\n",
              "  </div>\n",
              "  "
            ]
          },
          "metadata": {},
          "execution_count": 11
        }
      ]
    },
    {
      "cell_type": "code",
      "source": [
        "import missingno\n",
        "#data = data.dropna(subset=['start_time','end_time'])\n",
        "missingno.bar(data)"
      ],
      "metadata": {
        "colab": {
          "base_uri": "https://localhost:8080/",
          "height": 727
        },
        "id": "j_WHcpiGDilS",
        "outputId": "8aa6563a-f498-481c-dfd5-bdf6a4b39062"
      },
      "execution_count": null,
      "outputs": [
        {
          "output_type": "execute_result",
          "data": {
            "text/plain": [
              "<matplotlib.axes._subplots.AxesSubplot at 0x7f4bd6c83350>"
            ]
          },
          "metadata": {},
          "execution_count": 12
        },
        {
          "output_type": "display_data",
          "data": {
            "text/plain": [
              "<Figure size 1800x720 with 3 Axes>"
            ],
            "image/png": "[encoded data removed]"
          },
          "metadata": {
            "needs_background": "light"
          }
        }
      ]
    },
    {
      "cell_type": "code",
      "source": [
        "longi=[]\n",
        "lati=[]\n",
        "df = data.astype({'longitude':'float'})\n",
        "\n",
        "for i in range(1,16):\n",
        "  sub=df[df['date']==i]\n",
        "  longi.append(sub['longitude'].mean())\n",
        "\n",
        "print(longi)\n",
        "\n",
        "df = data.astype({'latitude':'float'})\n",
        "for i in range(1,16):\n",
        "  sub=df[df['date']==i]\n",
        "  lati.append(sub['latitude'].mean())\n",
        "\n",
        "print(lati)\n",
        "    \n",
        "#data.start_date.value_counts(ascending=True)\n",
        "\n"
      ],
      "metadata": {
        "colab": {
          "base_uri": "https://localhost:8080/"
        },
        "id": "l38VH64JFxMe",
        "outputId": "ccb3479d-cd34-4dfe-8cf8-54bfe06f7a15"
      },
      "execution_count": null,
      "outputs": [
        {
          "output_type": "stream",
          "name": "stdout",
          "text": [
            "[31.191069195922363, 31.20187533124763, 31.21115536626279, 31.202684292106447, 31.197657538459538, 31.208968237545925, 31.19925111642957, 31.185039942200532, 31.200185995788452, 31.19836561693804, 31.20151504509834, 31.194044106039396, 31.193051023246667, 31.187333590869436, 31.195538911485688]\n",
            "[121.28366226204616, 121.26050718267804, 121.32651591526444, 121.334498785287, 121.32008949805945, 121.34003392631607, 121.32171803563334, 121.3152557336663, 121.33112352047067, 121.33780847354383, 121.339190440714, 121.3363357716978, 121.31568503231436, 121.33825440289195, 121.34062397591224]\n"
          ]
        }
      ]
    },
    {
      "cell_type": "code",
      "source": [
        "for i in range(1,16):\n",
        "  sub=df[df['date']==i]\n",
        "  df['longitude'].fillna(longi[i-1],inplace=True)\n",
        "  df['latitude'].fillna(lati[i-1],inplace=True)\n",
        "missingno.bar(df)"
      ],
      "metadata": {
        "colab": {
          "base_uri": "https://localhost:8080/",
          "height": 727
        },
        "id": "roxB_dlh5-St",
        "outputId": "47dc172e-7a8c-49d5-d6f8-d9d98004b868"
      },
      "execution_count": null,
      "outputs": [
        {
          "output_type": "execute_result",
          "data": {
            "text/plain": [
              "<matplotlib.axes._subplots.AxesSubplot at 0x7f4bcddaa710>"
            ]
          },
          "metadata": {},
          "execution_count": 14
        },
        {
          "output_type": "display_data",
          "data": {
            "text/plain": [
              "<Figure size 1800x720 with 3 Axes>"
            ],
            "image/png": "[encoded data removed]"
          },
          "metadata": {
            "needs_background": "light"
          }
        }
      ]
    },
    {
      "cell_type": "code",
      "source": [
        "from google.colab import files\n",
        "\n",
        "df.to_csv('disertn.csv', encoding = 'utf-8-sig') \n",
        "files.download('disertn.csv')"
      ],
      "metadata": {
        "colab": {
          "base_uri": "https://localhost:8080/",
          "height": 17
        },
        "id": "OB-1K1-rZRR_",
        "outputId": "f529faf4-0ccf-4dec-9d84-071aefffb9a2"
      },
      "execution_count": null,
      "outputs": [
        {
          "output_type": "display_data",
          "data": {
            "text/plain": [
              "<IPython.core.display.Javascript object>"
            ],
            "application/javascript": [
              "\n",
              "    async function download(id, filename, size) {\n",
              "      if (!google.colab.kernel.accessAllowed) {\n",
              "        return;\n",
              "      }\n",
              "      const div = document.createElement('div');\n",
              "      const label = document.createElement('label');\n",
              "      label.textContent = `Downloading \"${filename}\": `;\n",
              "      div.appendChild(label);\n",
              "      const progress = document.createElement('progress');\n",
              "      progress.max = size;\n",
              "      div.appendChild(progress);\n",
              "      document.body.appendChild(div);\n",
              "\n",
              "      const buffers = [];\n",
              "      let downloaded = 0;\n",
              "\n",
              "      const channel = await google.colab.kernel.comms.open(id);\n",
              "      // Send a message to notify the kernel that we're ready.\n",
              "      channel.send({})\n",
              "\n",
              "      for await (const message of channel.messages) {\n",
              "        // Send a message to notify the kernel that we're ready.\n",
              "        channel.send({})\n",
              "        if (message.buffers) {\n",
              "          for (const buffer of message.buffers) {\n",
              "            buffers.push(buffer);\n",
              "            downloaded += buffer.byteLength;\n",
              "            progress.value = downloaded;\n",
              "          }\n",
              "        }\n",
              "      }\n",
              "      const blob = new Blob(buffers, {type: 'application/binary'});\n",
              "      const a = document.createElement('a');\n",
              "      a.href = window.URL.createObjectURL(blob);\n",
              "      a.download = filename;\n",
              "      div.appendChild(a);\n",
              "      a.click();\n",
              "      div.remove();\n",
              "    }\n",
              "  "
            ]
          },
          "metadata": {}
        },
        {
          "output_type": "display_data",
          "data": {
            "text/plain": [
              "<IPython.core.display.Javascript object>"
            ],
            "application/javascript": [
              "download(\"download_b5640d78-d293-4779-902a-14a27696e358\", \"disertn.csv\", 68071884)"
            ]
          },
          "metadata": {}
        }
      ]
    },
    {
      "cell_type": "code",
      "source": [
        "#df1.sort_values(by=['month'])\n",
        "df1"
      ],
      "metadata": {
        "colab": {
          "base_uri": "https://localhost:8080/",
          "height": 455
        },
        "id": "7UB6bAy4XQwp",
        "outputId": "dbcbab32-558f-49a8-93c3-a5f91d627ebe"
      },
      "execution_count": null,
      "outputs": [
        {
          "output_type": "execute_result",
          "data": {
            "text/plain": [
              "                     month  date  end time  user id  longitude  latitude\n",
              "start time                                                              \n",
              "2014-05-31 23:00:00   1114  1114      1114     1114       1114      1114\n",
              "2014-06-01 00:00:00    906   906       906      906        906       906\n",
              "2014-06-01 01:00:00    697   697       697      697        697       697\n",
              "2014-06-01 02:00:00    580   580       580      580        580       580\n",
              "2014-06-01 03:00:00    623   623       623      623        623       623\n",
              "...                    ...   ...       ...      ...        ...       ...\n",
              "2014-06-15 19:00:00   1908  1908      1908     1908       1908      1908\n",
              "2014-06-15 20:00:00   1792  1792      1792     1792       1792      1792\n",
              "2014-06-15 21:00:00   1774  1774      1774     1774       1774      1774\n",
              "2014-06-15 22:00:00   1506  1506      1506     1506       1506      1506\n",
              "2014-06-15 23:00:00    917   917       917      917        917       917\n",
              "\n",
              "[361 rows x 6 columns]"
            ],
            "text/html": [
              "\n",
              "  <div id=\"df-8710a1e7-ffd1-4b03-865a-ba34e683e66c\">\n",
              "    <div class=\"colab-df-container\">\n",
              "      <div>\n",
              "<style scoped>\n",
              "    .dataframe tbody tr th:only-of-type {\n",
              "        vertical-align: middle;\n",
              "    }\n",
              "\n",
              "    .dataframe tbody tr th {\n",
              "        vertical-align: top;\n",
              "    }\n",
              "\n",
              "    .dataframe thead th {\n",
              "        text-align: right;\n",
              "    }\n",
              "</style>\n",
              "<table border=\"1\" class=\"dataframe\">\n",
              "  <thead>\n",
              "    <tr style=\"text-align: right;\">\n",
              "      <th></th>\n",
              "      <th>month</th>\n",
              "      <th>date</th>\n",
              "      <th>end time</th>\n",
              "      <th>user id</th>\n",
              "      <th>longitude</th>\n",
              "      <th>latitude</th>\n",
              "    </tr>\n",
              "    <tr>\n",
              "      <th>start time</th>\n",
              "      <th></th>\n",
              "      <th></th>\n",
              "      <th></th>\n",
              "      <th></th>\n",
              "      <th></th>\n",
              "      <th></th>\n",
              "    </tr>\n",
              "  </thead>\n",
              "  <tbody>\n",
              "    <tr>\n",
              "      <th>2014-05-31 23:00:00</th>\n",
              "      <td>1114</td>\n",
              "      <td>1114</td>\n",
              "      <td>1114</td>\n",
              "      <td>1114</td>\n",
              "      <td>1114</td>\n",
              "      <td>1114</td>\n",
              "    </tr>\n",
              "    <tr>\n",
              "      <th>2014-06-01 00:00:00</th>\n",
              "      <td>906</td>\n",
              "      <td>906</td>\n",
              "      <td>906</td>\n",
              "      <td>906</td>\n",
              "      <td>906</td>\n",
              "      <td>906</td>\n",
              "    </tr>\n",
              "    <tr>\n",
              "      <th>2014-06-01 01:00:00</th>\n",
              "      <td>697</td>\n",
              "      <td>697</td>\n",
              "      <td>697</td>\n",
              "      <td>697</td>\n",
              "      <td>697</td>\n",
              "      <td>697</td>\n",
              "    </tr>\n",
              "    <tr>\n",
              "      <th>2014-06-01 02:00:00</th>\n",
              "      <td>580</td>\n",
              "      <td>580</td>\n",
              "      <td>580</td>\n",
              "      <td>580</td>\n",
              "      <td>580</td>\n",
              "      <td>580</td>\n",
              "    </tr>\n",
              "    <tr>\n",
              "      <th>2014-06-01 03:00:00</th>\n",
              "      <td>623</td>\n",
              "      <td>623</td>\n",
              "      <td>623</td>\n",
              "      <td>623</td>\n",
              "      <td>623</td>\n",
              "      <td>623</td>\n",
              "    </tr>\n",
              "    <tr>\n",
              "      <th>...</th>\n",
              "      <td>...</td>\n",
              "      <td>...</td>\n",
              "      <td>...</td>\n",
              "      <td>...</td>\n",
              "      <td>...</td>\n",
              "      <td>...</td>\n",
              "    </tr>\n",
              "    <tr>\n",
              "      <th>2014-06-15 19:00:00</th>\n",
              "      <td>1908</td>\n",
              "      <td>1908</td>\n",
              "      <td>1908</td>\n",
              "      <td>1908</td>\n",
              "      <td>1908</td>\n",
              "      <td>1908</td>\n",
              "    </tr>\n",
              "    <tr>\n",
              "      <th>2014-06-15 20:00:00</th>\n",
              "      <td>1792</td>\n",
              "      <td>1792</td>\n",
              "      <td>1792</td>\n",
              "      <td>1792</td>\n",
              "      <td>1792</td>\n",
              "      <td>1792</td>\n",
              "    </tr>\n",
              "    <tr>\n",
              "      <th>2014-06-15 21:00:00</th>\n",
              "      <td>1774</td>\n",
              "      <td>1774</td>\n",
              "      <td>1774</td>\n",
              "      <td>1774</td>\n",
              "      <td>1774</td>\n",
              "      <td>1774</td>\n",
              "    </tr>\n",
              "    <tr>\n",
              "      <th>2014-06-15 22:00:00</th>\n",
              "      <td>1506</td>\n",
              "      <td>1506</td>\n",
              "      <td>1506</td>\n",
              "      <td>1506</td>\n",
              "      <td>1506</td>\n",
              "      <td>1506</td>\n",
              "    </tr>\n",
              "    <tr>\n",
              "      <th>2014-06-15 23:00:00</th>\n",
              "      <td>917</td>\n",
              "      <td>917</td>\n",
              "      <td>917</td>\n",
              "      <td>917</td>\n",
              "      <td>917</td>\n",
              "      <td>917</td>\n",
              "    </tr>\n",
              "  </tbody>\n",
              "</table>\n",
              "<p>361 rows × 6 columns</p>\n",
              "</div>\n",
              "      <button class=\"colab-df-convert\" onclick=\"convertToInteractive('df-8710a1e7-ffd1-4b03-865a-ba34e683e66c')\"\n",
              "              title=\"Convert this dataframe to an interactive table.\"\n",
              "              style=\"display:none;\">\n",
              "        \n",
              "  <svg xmlns=\"http://www.w3.org/2000/svg\" height=\"24px\"viewBox=\"0 0 24 24\"\n",
              "       width=\"24px\">\n",
              "    <path d=\"M0 0h24v24H0V0z\" fill=\"none\"/>\n",
              "    <path d=\"M18.56 5.44l.94 2.06.94-2.06 2.06-.94-2.06-.94-.94-2.06-.94 2.06-2.06.94zm-11 1L8.5 8.5l.94-2.06 2.06-.94-2.06-.94L8.5 2.5l-.94 2.06-2.06.94zm10 10l.94 2.06.94-2.06 2.06-.94-2.06-.94-.94-2.06-.94 2.06-2.06.94z\"/><path d=\"M17.41 7.96l-1.37-1.37c-.4-.4-.92-.59-1.43-.59-.52 0-1.04.2-1.43.59L10.3 9.45l-7.72 7.72c-.78.78-.78 2.05 0 2.83L4 21.41c.39.39.9.59 1.41.59.51 0 1.02-.2 1.41-.59l7.78-7.78 2.81-2.81c.8-.78.8-2.07 0-2.86zM5.41 20L4 18.59l7.72-7.72 1.47 1.35L5.41 20z\"/>\n",
              "  </svg>\n",
              "      </button>\n",
              "      \n",
              "  <style>\n",
              "    .colab-df-container {\n",
              "      display:flex;\n",
              "      flex-wrap:wrap;\n",
              "      gap: 12px;\n",
              "    }\n",
              "\n",
              "    .colab-df-convert {\n",
              "      background-color: #E8F0FE;\n",
              "      border: none;\n",
              "      border-radius: 50%;\n",
              "      cursor: pointer;\n",
              "      display: none;\n",
              "      fill: #1967D2;\n",
              "      height: 32px;\n",
              "      padding: 0 0 0 0;\n",
              "      width: 32px;\n",
              "    }\n",
              "\n",
              "    .colab-df-convert:hover {\n",
              "      background-color: #E2EBFA;\n",
              "      box-shadow: 0px 1px 2px rgba(60, 64, 67, 0.3), 0px 1px 3px 1px rgba(60, 64, 67, 0.15);\n",
              "      fill: #174EA6;\n",
              "    }\n",
              "\n",
              "    [theme=dark] .colab-df-convert {\n",
              "      background-color: #3B4455;\n",
              "      fill: #D2E3FC;\n",
              "    }\n",
              "\n",
              "    [theme=dark] .colab-df-convert:hover {\n",
              "      background-color: #434B5C;\n",
              "      box-shadow: 0px 1px 3px 1px rgba(0, 0, 0, 0.15);\n",
              "      filter: drop-shadow(0px 1px 2px rgba(0, 0, 0, 0.3));\n",
              "      fill: #FFFFFF;\n",
              "    }\n",
              "  </style>\n",
              "\n",
              "      <script>\n",
              "        const buttonEl =\n",
              "          document.querySelector('#df-8710a1e7-ffd1-4b03-865a-ba34e683e66c button.colab-df-convert');\n",
              "        buttonEl.style.display =\n",
              "          google.colab.kernel.accessAllowed ? 'block' : 'none';\n",
              "\n",
              "        async function convertToInteractive(key) {\n",
              "          const element = document.querySelector('#df-8710a1e7-ffd1-4b03-865a-ba34e683e66c');\n",
              "          const dataTable =\n",
              "            await google.colab.kernel.invokeFunction('convertToInteractive',\n",
              "                                                     [key], {});\n",
              "          if (!dataTable) return;\n",
              "\n",
              "          const docLinkHtml = 'Like what you see? Visit the ' +\n",
              "            '<a target=\"_blank\" href=https://colab.research.google.com/notebooks/data_table.ipynb>data table notebook</a>'\n",
              "            + ' to learn more about interactive tables.';\n",
              "          element.innerHTML = '';\n",
              "          dataTable['output_type'] = 'display_data';\n",
              "          await google.colab.output.renderOutput(dataTable, element);\n",
              "          const docLink = document.createElement('div');\n",
              "          docLink.innerHTML = docLinkHtml;\n",
              "          element.appendChild(docLink);\n",
              "        }\n",
              "      </script>\n",
              "    </div>\n",
              "  </div>\n",
              "  "
            ]
          },
          "metadata": {},
          "execution_count": 13
        }
      ]
    },
    {
      "cell_type": "code",
      "source": [
        "import matplotlib.pyplot as plt\n",
        "plt.figure(figsize=(10,10))\n",
        "df1['user id'].plot()\n",
        "plt.show()"
      ],
      "metadata": {
        "id": "aXN3zh3xxOVX"
      },
      "execution_count": null,
      "outputs": []
    },
    {
      "cell_type": "code",
      "source": [
        "from datetime import date as dt\n",
        "load=(df.iloc[0]['start time']-df.iloc[0]['end time'])/ np.timedelta64(1, 's')/60\n",
        "print(abs(load))"
      ],
      "metadata": {
        "id": "Uf0xn8OrimNX"
      },
      "execution_count": null,
      "outputs": []
    },
    {
      "cell_type": "code",
      "source": [
        "from geopy.geocoders import Nominatim\n",
        "geolocator = Nominatim(user_agent=\"Reverse Geocoding\")"
      ],
      "metadata": {
        "id": "ZzJWWXbowRj4"
      },
      "execution_count": null,
      "outputs": []
    },
    {
      "cell_type": "code",
      "source": [
        "tdf=df[:8000]\n",
        "del tdf['start time']\n",
        "del tdf['end time']\n",
        "cities=[]\n",
        "\n",
        "for i in range(tdf.shape[0]):\n",
        "    lati=str(tdf.iloc[i]['longitude'])\n",
        "    longi=str(tdf.iloc[i]['latitude'])\n",
        "    location = geolocator.reverse(lati+\",\"+longi, language='en')\n",
        "    addr = location.raw['address']\n",
        "    if('city' in (list(addr.keys()))):\n",
        "        cities.append(addr['city'])\n",
        "    else:\n",
        "        cities.append('UNKNOWN')\n",
        "\n",
        "tdf.loc[:,'cities']=cities\n",
        "\n",
        "print(tdf)"
      ],
      "metadata": {
        "id": "yH6K4EmHwB6o"
      },
      "execution_count": null,
      "outputs": []
    },
    {
      "cell_type": "code",
      "source": [
        "from google.colab import files\n",
        "\n",
        "tdf.to_csv('section.csv', encoding = 'utf-8-sig') \n",
        "files.download('section.csv')"
      ],
      "metadata": {
        "colab": {
          "base_uri": "https://localhost:8080/",
          "height": 17
        },
        "id": "U-7vuHytiiJZ",
        "outputId": "2a0bed9b-8a36-4861-f058-f2c8960dc62b"
      },
      "execution_count": null,
      "outputs": [
        {
          "output_type": "display_data",
          "data": {
            "text/plain": [
              "<IPython.core.display.Javascript object>"
            ],
            "application/javascript": [
              "\n",
              "    async function download(id, filename, size) {\n",
              "      if (!google.colab.kernel.accessAllowed) {\n",
              "        return;\n",
              "      }\n",
              "      const div = document.createElement('div');\n",
              "      const label = document.createElement('label');\n",
              "      label.textContent = `Downloading \"${filename}\": `;\n",
              "      div.appendChild(label);\n",
              "      const progress = document.createElement('progress');\n",
              "      progress.max = size;\n",
              "      div.appendChild(progress);\n",
              "      document.body.appendChild(div);\n",
              "\n",
              "      const buffers = [];\n",
              "      let downloaded = 0;\n",
              "\n",
              "      const channel = await google.colab.kernel.comms.open(id);\n",
              "      // Send a message to notify the kernel that we're ready.\n",
              "      channel.send({})\n",
              "\n",
              "      for await (const message of channel.messages) {\n",
              "        // Send a message to notify the kernel that we're ready.\n",
              "        channel.send({})\n",
              "        if (message.buffers) {\n",
              "          for (const buffer of message.buffers) {\n",
              "            buffers.push(buffer);\n",
              "            downloaded += buffer.byteLength;\n",
              "            progress.value = downloaded;\n",
              "          }\n",
              "        }\n",
              "      }\n",
              "      const blob = new Blob(buffers, {type: 'application/binary'});\n",
              "      const a = document.createElement('a');\n",
              "      a.href = window.URL.createObjectURL(blob);\n",
              "      a.download = filename;\n",
              "      div.appendChild(a);\n",
              "      a.click();\n",
              "      div.remove();\n",
              "    }\n",
              "  "
            ]
          },
          "metadata": {}
        },
        {
          "output_type": "display_data",
          "data": {
            "text/plain": [
              "<IPython.core.display.Javascript object>"
            ],
            "application/javascript": [
              "download(\"download_21f23a04-f571-45df-a52f-b0fc1ea4fd06\", \"section.csv\", 81793)"
            ]
          },
          "metadata": {}
        }
      ]
    },
    {
      "cell_type": "code",
      "source": [
        "tdf=df[55001:60000]\n",
        "del tdf['start time']\n",
        "del tdf['end time']\n",
        "cities=[]\n",
        "\n",
        "for i in range(tdf.shape[0]):\n",
        "    lati=str(tdf.iloc[i]['longitude'])\n",
        "    longi=str(tdf.iloc[i]['latitude'])\n",
        "    location = geolocator.reverse(lati+\",\"+longi, language='en')\n",
        "    addr = location.raw['address']\n",
        "    if('city' in (list(addr.keys()))):\n",
        "        cities.append(addr['city'])\n",
        "    else:\n",
        "        cities.append('UNKNOWN')\n",
        "\n",
        "tdf.loc[:,'cities']=cities\n",
        "\n",
        "print(tdf)"
      ],
      "metadata": {
        "colab": {
          "base_uri": "https://localhost:8080/"
        },
        "id": "WaS9Zvl6eoFv",
        "outputId": "125d55bb-caa9-49a5-c75e-a2939741a393"
      },
      "execution_count": null,
      "outputs": [
        {
          "output_type": "stream",
          "name": "stdout",
          "text": [
            "        month  date                           user id  longitude    latitude  \\\n",
            "55001  201406     2  7eb81ff9609255b50f349502c9382404  31.231508  121.577691   \n",
            "55002  201406     2  7eb81ff9609255b50f349502c9382404  31.231508  121.577691   \n",
            "55003  201406     2  2e68f49027a694a0ca36d56bb179557e  31.231508  121.577691   \n",
            "55004  201406     2  5f1621257f1701c5f6bbfdcba411b502  31.231508  121.577691   \n",
            "55005  201406     2  5f1621257f1701c5f6bbfdcba411b502  31.231508  121.577691   \n",
            "...       ...   ...                               ...        ...         ...   \n",
            "59995  201406     2  dd90b8d14f4917852572404ae0cc776a  31.190185  121.443475   \n",
            "59996  201406     2  dd90b8d14f4917852572404ae0cc776a  31.190185  121.443475   \n",
            "59997  201406     2  9ea235280c158952b7849f351f490050  31.190185  121.443475   \n",
            "59998  201406     2  9ea235280c158952b7849f351f490050  31.190185  121.443475   \n",
            "59999  201406     2  8d559fef51e2c50c3925d498fa96d77f  31.190185  121.443475   \n",
            "\n",
            "               cities  \n",
            "55001          Pudong  \n",
            "55002          Pudong  \n",
            "55003          Pudong  \n",
            "55004          Pudong  \n",
            "55005          Pudong  \n",
            "...               ...  \n",
            "59995  Xuhui District  \n",
            "59996  Xuhui District  \n",
            "59997  Xuhui District  \n",
            "59998  Xuhui District  \n",
            "59999  Xuhui District  \n",
            "\n",
            "[4999 rows x 6 columns]\n"
          ]
        },
        {
          "output_type": "stream",
          "name": "stderr",
          "text": [
            "/usr/local/lib/python3.7/dist-packages/pandas/core/indexing.py:1667: SettingWithCopyWarning: \n",
            "A value is trying to be set on a copy of a slice from a DataFrame.\n",
            "Try using .loc[row_indexer,col_indexer] = value instead\n",
            "\n",
            "See the caveats in the documentation: https://pandas.pydata.org/pandas-docs/stable/user_guide/indexing.html#returning-a-view-versus-a-copy\n",
            "  self.obj[key] = value\n"
          ]
        }
      ]
    }
  ]
}